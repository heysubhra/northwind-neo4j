{
 "cells": [
  {
   "cell_type": "code",
   "execution_count": null,
   "id": "545f5858",
   "metadata": {},
   "outputs": [],
   "source": [
    "! pip install graph-notebook --quiet"
   ]
  },
  {
   "cell_type": "code",
   "execution_count": null,
   "id": "d1e14d6a",
   "metadata": {},
   "outputs": [],
   "source": [
    "! pip install pandas python-dotenv SQLAlchemy psycopg2-binary --quiet"
   ]
  },
  {
   "cell_type": "markdown",
   "id": "638da293",
   "metadata": {},
   "source": [
    "**LOAD ENV**"
   ]
  },
  {
   "cell_type": "code",
   "execution_count": 1,
   "id": "6f8d9eea",
   "metadata": {},
   "outputs": [],
   "source": [
    "import os\n",
    "%load_ext dotenv\n",
    "%dotenv\n",
    "\n",
    "DATASET_PATH=os.getenv(\"DATASET_PATH\")\n",
    "JSON_DATASET_PATH=os.getenv(\"JSON_DATASET_PATH\")\n",
    "POSTGRESDB_URL=os.getenv(\"POSTGRESDB_URL\")\n",
    "HASURA_RESTAPI_HOST = os.getenv(\"HASURA_RESTAPI_HOST\")\n",
    "# NEO4J_HOST=os.getenv(\"NEO4J_HOST\")\n",
    "# NEO4J_USER=os.getenv(\"NEO4J_USER\")\n",
    "# NEO4J_PASSWORD=os.getenv(\"NEO4J_PASSWORD\")"
   ]
  },
  {
   "cell_type": "markdown",
   "id": "fef04d7a",
   "metadata": {},
   "source": [
    "**LOAD graph-notebook**"
   ]
  },
  {
   "cell_type": "code",
   "execution_count": 2,
   "id": "44ca47d9",
   "metadata": {},
   "outputs": [
    {
     "name": "stdout",
     "output_type": "stream",
     "text": [
      "Could not find a valid configuration. Do not forget to validate your settings using %graph_notebook_config.\n"
     ]
    }
   ],
   "source": [
    "%load_ext graph_notebook.magics"
   ]
  },
  {
   "cell_type": "code",
   "execution_count": 3,
   "id": "c54ea7f6",
   "metadata": {},
   "outputs": [
    {
     "name": "stdout",
     "output_type": "stream",
     "text": [
      "set notebook config to:\n",
      "{\n",
      "  \"host\": \"localhost\",\n",
      "  \"port\": 7687,\n",
      "  \"proxy_host\": \"\",\n",
      "  \"proxy_port\": 8182,\n",
      "  \"ssl\": false,\n",
      "  \"ssl_verify\": true,\n",
      "  \"sparql\": {\n",
      "    \"path\": \"\"\n",
      "  },\n",
      "  \"gremlin\": {\n",
      "    \"traversal_source\": \"g\",\n",
      "    \"username\": \"\",\n",
      "    \"password\": \"\",\n",
      "    \"message_serializer\": \"graphsonv3\"\n",
      "  },\n",
      "  \"neo4j\": {\n",
      "    \"username\": \"neo4j\",\n",
      "    \"password\": \"neo4jpassword\",\n",
      "    \"auth\": true,\n",
      "    \"database\": null\n",
      "  }\n",
      "}\n"
     ]
    },
    {
     "data": {
      "text/plain": [
       "<graph_notebook.configuration.generate_config.Configuration at 0x1468773d0>"
      ]
     },
     "execution_count": 3,
     "metadata": {},
     "output_type": "execute_result"
    }
   ],
   "source": [
    "%%graph_notebook_config\n",
    "{\n",
    "  \"host\": \"localhost\",\n",
    "  \"port\": 7687,\n",
    "  \"ssl\": false,\n",
    "  \"neo4j\": {\n",
    "    \"username\": \"neo4j\",\n",
    "    \"password\": \"neo4jpassword\",\n",
    "    \"auth\": true,\n",
    "    \"database\": \"\"\n",
    "  }\n",
    "}"
   ]
  },
  {
   "cell_type": "code",
   "execution_count": null,
   "id": "ccef3dc9",
   "metadata": {},
   "outputs": [],
   "source": [
    "%%oc bolt\n",
    "\n",
    "Match (n)"
   ]
  },
  {
   "cell_type": "markdown",
   "id": "20a820c2",
   "metadata": {},
   "source": [
    "## Setup Postgres"
   ]
  },
  {
   "cell_type": "code",
   "execution_count": null,
   "id": "d89e116c",
   "metadata": {},
   "outputs": [],
   "source": [
    "print(POSTGRESDB_URL)"
   ]
  },
  {
   "cell_type": "code",
   "execution_count": null,
   "id": "e41b06eb",
   "metadata": {},
   "outputs": [],
   "source": [
    "from sqlalchemy import create_engine, MetaData\n",
    "engine = create_engine(POSTGRESDB_URL)\n",
    "metadata = MetaData()\n",
    "# reflect the database schema to the metadata\n",
    "metadata.reflect(bind=engine)"
   ]
  },
  {
   "cell_type": "code",
   "execution_count": null,
   "id": "60791c76",
   "metadata": {},
   "outputs": [],
   "source": [
    "from sqlalchemy import text as sqltext\n",
    "\n",
    "def run_sql_script(path):\n",
    "\n",
    "    sql = open(path).read();\n",
    "    with engine.connect() as conn:\n",
    "        escaped_sql = sqltext(sql)\n",
    "        result = conn.execute(escaped_sql)\n",
    "        conn.commit()\n",
    "        return result\n",
    "    \n",
    "def run_sql_query(sql):\n",
    "    with engine.connect() as conn:\n",
    "        escaped_sql = sqltext(sql)\n",
    "        result = conn.execute(escaped_sql)\n",
    "        conn.commit()\n",
    "        return result"
   ]
  },
  {
   "cell_type": "code",
   "execution_count": null,
   "id": "261d340f",
   "metadata": {},
   "outputs": [],
   "source": [
    "from sqlalchemy import text as sqltext\n",
    "table = run_sql_script(\"./sql/northwind_pg.sql\")\n",
    "table.keys"
   ]
  },
  {
   "cell_type": "markdown",
   "id": "92a741d0",
   "metadata": {},
   "source": [
    "## Exporting Nodes to CSV using GraphQL\n",
    "\n",
    "    // GRAPHQL QUERY\n",
    "    query Nodes {\n",
    "      customers {\n",
    "        customerid\n",
    "        customername\n",
    "      }\n",
    "      categories {\n",
    "        categoryid\n",
    "        categoryname\n",
    "      }\n",
    "      orders {\n",
    "        orderid\n",
    "        orderdate\n",
    "      }\n",
    "      products {\n",
    "        productid\n",
    "        productname\n",
    "      }\n",
    "    }\n",
    "\n"
   ]
  },
  {
   "cell_type": "code",
   "execution_count": null,
   "id": "4b55e5ff",
   "metadata": {},
   "outputs": [],
   "source": [
    "import shutil\n",
    "# delete exsisting path for neptune dataset\n",
    "shutil.rmtree(DATASET_PATH)\n",
    "\n",
    "# mkdir\n",
    "isExist = os.path.exists(DATASET_PATH)\n",
    "if not isExist:\n",
    "   os.makedirs(DATASET_PATH)"
   ]
  },
  {
   "cell_type": "code",
   "execution_count": 12,
   "id": "6a7d4cf8",
   "metadata": {},
   "outputs": [],
   "source": [
    "NODES_API = \"nodes\"\n",
    "EDGES_API = \"edges\""
   ]
  },
  {
   "cell_type": "code",
   "execution_count": null,
   "id": "a4c60fde",
   "metadata": {},
   "outputs": [],
   "source": [
    "import pandas as pd\n",
    "import requests\n",
    "\n",
    "url =  \"{host}/{api}\".format(host=HASURA_RESTAPI_HOST,api=NODES_API)\n",
    "response = requests.get(url)\n",
    "response_json = response.json()\n",
    "response_json[\"customers\"][0]"
   ]
  },
  {
   "cell_type": "code",
   "execution_count": null,
   "id": "75f75507",
   "metadata": {},
   "outputs": [],
   "source": [
    "datasets = ['customers','categories','orders','products']\n",
    "\n",
    "# Nodes\n",
    "# :ID,  name:String,  age:Int,  lang:String,  :LABEL\n",
    "                    \n",
    "for d in datasets:\n",
    "    json_arr = response_json[d]\n",
    "    df = pd.DataFrame(json_arr)\n",
    "    if(d == 'orders'):\n",
    "        df['orderdate'] = pd.to_datetime(df['orderdate']).dt.date\n",
    "        \n",
    "    df.to_csv('{path}/{dataset}.csv'.format(path=DATASET_PATH,dataset=d),index=False)"
   ]
  },
  {
   "cell_type": "code",
   "execution_count": null,
   "id": "00dac2d7",
   "metadata": {},
   "outputs": [],
   "source": [
    "df = pd.read_csv('{path}/{dataset}.csv'.format(path=DATASET_PATH,dataset='orders'))\n",
    "df"
   ]
  },
  {
   "cell_type": "markdown",
   "id": "631a20a5",
   "metadata": {},
   "source": [
    "Upload Data to Neo4j: https://neo4j.com/developer/guide-importing-data-and-etl/"
   ]
  },
  {
   "cell_type": "markdown",
   "id": "1a5214a3",
   "metadata": {},
   "source": [
    "## Import Data to Neo4j (Nodes)"
   ]
  },
  {
   "cell_type": "markdown",
   "id": "9b573b9e",
   "metadata": {},
   "source": [
    "### Orders"
   ]
  },
  {
   "cell_type": "code",
   "execution_count": null,
   "id": "cc2df436",
   "metadata": {},
   "outputs": [],
   "source": [
    "%%oc bolt\n",
    "\n",
    "LOAD CSV WITH HEADERS FROM 'http://fileserver:4858/final/csv-data/orders.csv' AS row\n",
    "MERGE (order:Order {orderID: row.orderid})\n",
    "  ON CREATE SET order.orderDate = row.orderdate;"
   ]
  },
  {
   "cell_type": "code",
   "execution_count": 4,
   "id": "26da2245",
   "metadata": {},
   "outputs": [
    {
     "data": {
      "application/vnd.jupyter.widget-view+json": {
       "model_id": "18a15c3db67746e7a79a768f0a1582ed",
       "version_major": 2,
       "version_minor": 0
      },
      "text/plain": [
       "Tab(children=(Output(layout=Layout(max_height='600px', max_width='940px', overflow='scroll')), Output(layout=L…"
      ]
     },
     "metadata": {},
     "output_type": "display_data"
    }
   ],
   "source": [
    "%%oc bolt\n",
    "MATCH (o:Order) return o LIMIT 5;"
   ]
  },
  {
   "cell_type": "markdown",
   "id": "785334f4",
   "metadata": {},
   "source": [
    "### Products"
   ]
  },
  {
   "cell_type": "code",
   "execution_count": null,
   "id": "cf1e18fd",
   "metadata": {},
   "outputs": [],
   "source": [
    "%%oc bolt\n",
    "\n",
    "LOAD CSV WITH HEADERS FROM 'http://fileserver:4858/final/csv-data/products.csv' AS row\n",
    "MERGE (product:Product {productID: row.productid})\n",
    "  ON CREATE SET product.productName = row.productname;"
   ]
  },
  {
   "cell_type": "code",
   "execution_count": 5,
   "id": "f2a81b1b",
   "metadata": {
    "scrolled": true
   },
   "outputs": [
    {
     "data": {
      "application/vnd.jupyter.widget-view+json": {
       "model_id": "7662e2e5bcd94d13a81c6f4b46507000",
       "version_major": 2,
       "version_minor": 0
      },
      "text/plain": [
       "Tab(children=(Output(layout=Layout(max_height='600px', max_width='940px', overflow='scroll')), Output(layout=L…"
      ]
     },
     "metadata": {},
     "output_type": "display_data"
    }
   ],
   "source": [
    "%%oc bolt\n",
    "MATCH (p:Product) return p LIMIT 5;"
   ]
  },
  {
   "cell_type": "markdown",
   "id": "f4852a04",
   "metadata": {},
   "source": [
    "### Categories"
   ]
  },
  {
   "cell_type": "code",
   "execution_count": null,
   "id": "df5af501",
   "metadata": {},
   "outputs": [],
   "source": [
    "%%oc bolt\n",
    "\n",
    "LOAD CSV WITH HEADERS FROM 'http://fileserver:4858/final/csv-data/categories.csv' AS row\n",
    "MERGE (c:Category {categoryID: row.categoryid})\n",
    "  ON CREATE SET c.categoryName = row.categoryname;"
   ]
  },
  {
   "cell_type": "code",
   "execution_count": 6,
   "id": "6e057380",
   "metadata": {},
   "outputs": [
    {
     "data": {
      "application/vnd.jupyter.widget-view+json": {
       "model_id": "859ea287897c4470b7533dfe01067b36",
       "version_major": 2,
       "version_minor": 0
      },
      "text/plain": [
       "Tab(children=(Output(layout=Layout(max_height='600px', max_width='940px', overflow='scroll')), Output(layout=L…"
      ]
     },
     "metadata": {},
     "output_type": "display_data"
    }
   ],
   "source": [
    "%%oc bolt\n",
    "MATCH (c:Category) return c LIMIT 5;"
   ]
  },
  {
   "cell_type": "markdown",
   "id": "0c2f448a",
   "metadata": {},
   "source": [
    "### Customers"
   ]
  },
  {
   "cell_type": "code",
   "execution_count": 9,
   "id": "6822ec96",
   "metadata": {},
   "outputs": [
    {
     "data": {
      "application/vnd.jupyter.widget-view+json": {
       "model_id": "86dac690f2944469b17b709a7cf3ea00",
       "version_major": 2,
       "version_minor": 0
      },
      "text/plain": [
       "Tab(children=(Output(layout=Layout(max_height='600px', max_width='940px', overflow='scroll')), Output(layout=L…"
      ]
     },
     "metadata": {},
     "output_type": "display_data"
    }
   ],
   "source": [
    "%%oc bolt\n",
    "\n",
    "LOAD CSV WITH HEADERS FROM 'http://fileserver:4858/csv-data/customers.csv' AS row\n",
    "MERGE (c:Customer {customerID: row.customerid})\n",
    "  ON CREATE SET c.customerName = row.customername;"
   ]
  },
  {
   "cell_type": "code",
   "execution_count": 10,
   "id": "26103b2e",
   "metadata": {},
   "outputs": [
    {
     "data": {
      "application/vnd.jupyter.widget-view+json": {
       "model_id": "2647bb64c68c4fd5bc36985a0c991dc6",
       "version_major": 2,
       "version_minor": 0
      },
      "text/plain": [
       "Tab(children=(Output(layout=Layout(max_height='600px', max_width='940px', overflow='scroll')), Output(layout=L…"
      ]
     },
     "metadata": {},
     "output_type": "display_data"
    }
   ],
   "source": [
    "%%oc bolt\n",
    "MATCH (c:Customer) return c LIMIT 5;"
   ]
  },
  {
   "cell_type": "markdown",
   "id": "aca363dc",
   "metadata": {},
   "source": [
    "## Exporting Edges to CSV using GraphQL\n",
    "    // GRAPHQL Query \n",
    "     query Edges{\n",
    "      customers {\n",
    "        customerid\n",
    "        orders {\n",
    "          orderid\n",
    "        }\n",
    "      }\n",
    "      orders {\n",
    "        orderid\n",
    "        orderdetails {\n",
    "          orderdetailid\n",
    "          product {\n",
    "            productid\n",
    "          }\n",
    "        }\n",
    "      }\n",
    "      products {\n",
    "        productid\n",
    "        category {\n",
    "          categoryid\n",
    "        }\n",
    "      }\n",
    "    }"
   ]
  },
  {
   "cell_type": "markdown",
   "id": "e87fff3d",
   "metadata": {},
   "source": [
    "### Customer and Products\n",
    "![Popular Products](https://ik.imagekit.io/ggp/4c559e14-baaa-4d77-ad62-f3f52deab74a_q6scT_bsop)"
   ]
  },
  {
   "cell_type": "code",
   "execution_count": 13,
   "id": "468ecf39",
   "metadata": {},
   "outputs": [
    {
     "data": {
      "text/plain": [
       "{'productid': 1, 'category': {'categoryid': 1}}"
      ]
     },
     "execution_count": 13,
     "metadata": {},
     "output_type": "execute_result"
    }
   ],
   "source": [
    "import pandas as pd\n",
    "import requests\n",
    "\n",
    "url =  \"{host}/{api}\".format(host=HASURA_RESTAPI_HOST,api=EDGES_API)\n",
    "response = requests.get(url)\n",
    "response_json = response.json()\n",
    "response_json[\"products\"][0]"
   ]
  },
  {
   "cell_type": "code",
   "execution_count": 14,
   "id": "50e7d7f6",
   "metadata": {},
   "outputs": [],
   "source": [
    "# :Purchased\n",
    "\n",
    "data = []\n",
    "data.append((\"from\",\"to\"))\n",
    "json_arr = response_json['customers']\n",
    "for elem in json_arr:\n",
    "    customerid = elem['customerid']\n",
    "    for o in elem['orders']:\n",
    "        data.append((customerid,o['orderid']))\n",
    "\n",
    "df = pd.DataFrame(data)\n",
    "df.columns = df.iloc[0]\n",
    "df = df = df[1:]\n",
    "df.to_csv('{path}/{dataset}.csv'.format(path=DATASET_PATH,dataset=\"purchased\"),index=False,header=True)\n",
    "   "
   ]
  },
  {
   "cell_type": "code",
   "execution_count": 15,
   "id": "42e49a18",
   "metadata": {},
   "outputs": [
    {
     "data": {
      "text/html": [
       "<div>\n",
       "<style scoped>\n",
       "    .dataframe tbody tr th:only-of-type {\n",
       "        vertical-align: middle;\n",
       "    }\n",
       "\n",
       "    .dataframe tbody tr th {\n",
       "        vertical-align: top;\n",
       "    }\n",
       "\n",
       "    .dataframe thead th {\n",
       "        text-align: right;\n",
       "    }\n",
       "</style>\n",
       "<table border=\"1\" class=\"dataframe\">\n",
       "  <thead>\n",
       "    <tr style=\"text-align: right;\">\n",
       "      <th></th>\n",
       "      <th>from</th>\n",
       "      <th>to</th>\n",
       "    </tr>\n",
       "  </thead>\n",
       "  <tbody>\n",
       "    <tr>\n",
       "      <th>0</th>\n",
       "      <td>2</td>\n",
       "      <td>10308</td>\n",
       "    </tr>\n",
       "    <tr>\n",
       "      <th>1</th>\n",
       "      <td>3</td>\n",
       "      <td>10365</td>\n",
       "    </tr>\n",
       "    <tr>\n",
       "      <th>2</th>\n",
       "      <td>4</td>\n",
       "      <td>10355</td>\n",
       "    </tr>\n",
       "    <tr>\n",
       "      <th>3</th>\n",
       "      <td>4</td>\n",
       "      <td>10383</td>\n",
       "    </tr>\n",
       "    <tr>\n",
       "      <th>4</th>\n",
       "      <td>5</td>\n",
       "      <td>10278</td>\n",
       "    </tr>\n",
       "    <tr>\n",
       "      <th>...</th>\n",
       "      <td>...</td>\n",
       "      <td>...</td>\n",
       "    </tr>\n",
       "    <tr>\n",
       "      <th>191</th>\n",
       "      <td>88</td>\n",
       "      <td>10420</td>\n",
       "    </tr>\n",
       "    <tr>\n",
       "      <th>192</th>\n",
       "      <td>89</td>\n",
       "      <td>10269</td>\n",
       "    </tr>\n",
       "    <tr>\n",
       "      <th>193</th>\n",
       "      <td>89</td>\n",
       "      <td>10344</td>\n",
       "    </tr>\n",
       "    <tr>\n",
       "      <th>194</th>\n",
       "      <td>90</td>\n",
       "      <td>10248</td>\n",
       "    </tr>\n",
       "    <tr>\n",
       "      <th>195</th>\n",
       "      <td>91</td>\n",
       "      <td>10374</td>\n",
       "    </tr>\n",
       "  </tbody>\n",
       "</table>\n",
       "<p>196 rows × 2 columns</p>\n",
       "</div>"
      ],
      "text/plain": [
       "     from     to\n",
       "0       2  10308\n",
       "1       3  10365\n",
       "2       4  10355\n",
       "3       4  10383\n",
       "4       5  10278\n",
       "..    ...    ...\n",
       "191    88  10420\n",
       "192    89  10269\n",
       "193    89  10344\n",
       "194    90  10248\n",
       "195    91  10374\n",
       "\n",
       "[196 rows x 2 columns]"
      ]
     },
     "execution_count": 15,
     "metadata": {},
     "output_type": "execute_result"
    }
   ],
   "source": [
    "df = pd.read_csv('{path}/{dataset}.csv'.format(path=DATASET_PATH,dataset='purchased'))\n",
    "df"
   ]
  },
  {
   "cell_type": "code",
   "execution_count": 16,
   "id": "7541bc91",
   "metadata": {},
   "outputs": [
    {
     "data": {
      "application/vnd.jupyter.widget-view+json": {
       "model_id": "d34d679a645045149d34ccdf4b239fc9",
       "version_major": 2,
       "version_minor": 0
      },
      "text/plain": [
       "Tab(children=(Output(layout=Layout(max_height='600px', max_width='940px', overflow='scroll')), Output(layout=L…"
      ]
     },
     "metadata": {},
     "output_type": "display_data"
    }
   ],
   "source": [
    "%%oc bolt\n",
    "\n",
    "// Create relationships between customers and orders\n",
    "LOAD CSV WITH HEADERS FROM 'http://fileserver:4858/csv-data/purchased.csv' AS row\n",
    "MATCH (customer:Customer {customerID: row.from})\n",
    "MATCH (order:Order {orderID: row.to})\n",
    "MERGE (customer)-[pu:PURCHASED]->(order)"
   ]
  },
  {
   "cell_type": "code",
   "execution_count": 17,
   "id": "84583246",
   "metadata": {},
   "outputs": [
    {
     "data": {
      "application/vnd.jupyter.widget-view+json": {
       "model_id": "e03f083b002c4738bccd99904257fcd2",
       "version_major": 2,
       "version_minor": 0
      },
      "text/plain": [
       "Tab(children=(Output(layout=Layout(max_height='600px', max_width='940px', overflow='scroll')), Output(layout=L…"
      ]
     },
     "metadata": {},
     "output_type": "display_data"
    }
   ],
   "source": [
    "%%oc bolt\n",
    "\n",
    "MATCH (p)-[r:PURCHASED]->(o) RETURN p,r,o LIMIT 25;"
   ]
  },
  {
   "cell_type": "code",
   "execution_count": 18,
   "id": "877a4911",
   "metadata": {},
   "outputs": [],
   "source": [
    "# :Product\n",
    "# {'orderid': 10248,\n",
    "#  'orderdetails': [{'orderdetailid': 1, 'product': {'productid': 11}},\n",
    "#   {'orderdetailid': 2, 'product': {'productid': 42}},\n",
    "#   {'orderdetailid': 3, 'product': {'productid': 72}}]}\n",
    "\n",
    "\n",
    "data = []\n",
    "data.append((\"from\",\"to\"))\n",
    "json_arr = response_json['orders']\n",
    "for elem in json_arr:\n",
    "    orderid = elem['orderid']\n",
    "    for od in elem['orderdetails']:\n",
    "        productid= od['product']['productid']\n",
    "        data.append((orderid,productid))\n",
    "\n",
    "df = pd.DataFrame(data)\n",
    "df.columns = df.iloc[0]\n",
    "df = df = df[1:]\n",
    "df.to_csv('{path}/{dataset}.csv'.format(path=DATASET_PATH,dataset=\"order_product\"),index=False,header=True)"
   ]
  },
  {
   "cell_type": "code",
   "execution_count": 19,
   "id": "b9541c59",
   "metadata": {},
   "outputs": [
    {
     "data": {
      "text/html": [
       "<div>\n",
       "<style scoped>\n",
       "    .dataframe tbody tr th:only-of-type {\n",
       "        vertical-align: middle;\n",
       "    }\n",
       "\n",
       "    .dataframe tbody tr th {\n",
       "        vertical-align: top;\n",
       "    }\n",
       "\n",
       "    .dataframe thead th {\n",
       "        text-align: right;\n",
       "    }\n",
       "</style>\n",
       "<table border=\"1\" class=\"dataframe\">\n",
       "  <thead>\n",
       "    <tr style=\"text-align: right;\">\n",
       "      <th></th>\n",
       "      <th>from</th>\n",
       "      <th>to</th>\n",
       "    </tr>\n",
       "  </thead>\n",
       "  <tbody>\n",
       "    <tr>\n",
       "      <th>0</th>\n",
       "      <td>10248</td>\n",
       "      <td>11</td>\n",
       "    </tr>\n",
       "    <tr>\n",
       "      <th>1</th>\n",
       "      <td>10248</td>\n",
       "      <td>42</td>\n",
       "    </tr>\n",
       "    <tr>\n",
       "      <th>2</th>\n",
       "      <td>10248</td>\n",
       "      <td>72</td>\n",
       "    </tr>\n",
       "    <tr>\n",
       "      <th>3</th>\n",
       "      <td>10249</td>\n",
       "      <td>14</td>\n",
       "    </tr>\n",
       "    <tr>\n",
       "      <th>4</th>\n",
       "      <td>10249</td>\n",
       "      <td>51</td>\n",
       "    </tr>\n",
       "    <tr>\n",
       "      <th>...</th>\n",
       "      <td>...</td>\n",
       "      <td>...</td>\n",
       "    </tr>\n",
       "    <tr>\n",
       "      <th>513</th>\n",
       "      <td>10442</td>\n",
       "      <td>11</td>\n",
       "    </tr>\n",
       "    <tr>\n",
       "      <th>514</th>\n",
       "      <td>10442</td>\n",
       "      <td>54</td>\n",
       "    </tr>\n",
       "    <tr>\n",
       "      <th>515</th>\n",
       "      <td>10442</td>\n",
       "      <td>66</td>\n",
       "    </tr>\n",
       "    <tr>\n",
       "      <th>516</th>\n",
       "      <td>10443</td>\n",
       "      <td>11</td>\n",
       "    </tr>\n",
       "    <tr>\n",
       "      <th>517</th>\n",
       "      <td>10443</td>\n",
       "      <td>28</td>\n",
       "    </tr>\n",
       "  </tbody>\n",
       "</table>\n",
       "<p>518 rows × 2 columns</p>\n",
       "</div>"
      ],
      "text/plain": [
       "      from  to\n",
       "0    10248  11\n",
       "1    10248  42\n",
       "2    10248  72\n",
       "3    10249  14\n",
       "4    10249  51\n",
       "..     ...  ..\n",
       "513  10442  11\n",
       "514  10442  54\n",
       "515  10442  66\n",
       "516  10443  11\n",
       "517  10443  28\n",
       "\n",
       "[518 rows x 2 columns]"
      ]
     },
     "execution_count": 19,
     "metadata": {},
     "output_type": "execute_result"
    }
   ],
   "source": [
    "df = pd.read_csv('{path}/{dataset}.csv'.format(path=DATASET_PATH,dataset='order_product'))\n",
    "df"
   ]
  },
  {
   "cell_type": "code",
   "execution_count": 20,
   "id": "83f1e6f8",
   "metadata": {},
   "outputs": [
    {
     "data": {
      "application/vnd.jupyter.widget-view+json": {
       "model_id": "7308209a5a564dccb3b0b0fc48869c79",
       "version_major": 2,
       "version_minor": 0
      },
      "text/plain": [
       "Tab(children=(Output(layout=Layout(max_height='600px', max_width='940px', overflow='scroll')), Output(layout=L…"
      ]
     },
     "metadata": {},
     "output_type": "display_data"
    }
   ],
   "source": [
    "%%oc bolt\n",
    "\n",
    "// Create relationships between corder and product\n",
    "LOAD CSV WITH HEADERS FROM 'http://fileserver:4858/csv-data/order_product.csv' AS row\n",
    "MATCH (order:Order {orderID: row.from})\n",
    "MATCH (product:Product {productID: row.to})\n",
    "MERGE (order)-[pr:PRODUCT]->(product)"
   ]
  },
  {
   "cell_type": "code",
   "execution_count": 22,
   "id": "4b766a2c",
   "metadata": {},
   "outputs": [
    {
     "data": {
      "application/vnd.jupyter.widget-view+json": {
       "model_id": "77793a33ef304d7d9e50d22489d57c9f",
       "version_major": 2,
       "version_minor": 0
      },
      "text/plain": [
       "Tab(children=(Output(layout=Layout(max_height='600px', max_width='940px', overflow='scroll')), Output(layout=L…"
      ]
     },
     "metadata": {},
     "output_type": "display_data"
    }
   ],
   "source": [
    "%%oc bolt\n",
    "\n",
    "MATCH (o)-[pr:PRODUCT]->(p) RETURN o,pr,p LIMIT 25;"
   ]
  },
  {
   "cell_type": "code",
   "execution_count": 23,
   "id": "57717b5e",
   "metadata": {},
   "outputs": [],
   "source": [
    "# :PartOf\n",
    "#  {'productid': 1, 'category': {'categoryid': 1}}\n",
    "\n",
    "data = []\n",
    "data.append((\"from\",\"to\"))\n",
    "json_arr = response_json['products']\n",
    "for elem in json_arr:\n",
    "    productid = elem['productid']\n",
    "    categoryid = elem['category']['categoryid']\n",
    "    data.append((productid,categoryid))\n",
    "\n",
    "df = pd.DataFrame(data)\n",
    "df.columns = df.iloc[0]\n",
    "df = df = df[1:]\n",
    "df.to_csv('{path}/{dataset}.csv'.format(path=DATASET_PATH,dataset=\"partof\"),index=False,header=True)"
   ]
  },
  {
   "cell_type": "code",
   "execution_count": 24,
   "id": "fe7da65f",
   "metadata": {},
   "outputs": [],
   "source": [
    "df = pd.read_csv('{path}/{dataset}.csv'.format(path=DATASET_PATH,dataset='partof'))\n",
    "df"
   ]
  },
  {
   "cell_type": "code",
   "execution_count": 4,
   "id": "4c91666a",
   "metadata": {},
   "outputs": [
    {
     "data": {
      "application/vnd.jupyter.widget-view+json": {
       "model_id": "0ba329a122c9454581d2ad4fcd28768b",
       "version_major": 2,
       "version_minor": 0
      },
      "text/plain": [
       "Tab(children=(Output(layout=Layout(max_height='600px', max_width='940px', overflow='scroll')), Output(layout=L…"
      ]
     },
     "metadata": {},
     "output_type": "display_data"
    }
   ],
   "source": [
    "%%oc bolt\n",
    "\n",
    "// Create relationships between product and category\n",
    "LOAD CSV WITH HEADERS FROM 'http://fileserver:4858/csv-data/partof.csv' AS row\n",
    "MATCH (product:Product {productID: row.from})\n",
    "MATCH (category:Category {categoryID: row.to})\n",
    "MERGE (product)-[pr:PARTOF]->(category)"
   ]
  },
  {
   "cell_type": "code",
   "execution_count": 5,
   "id": "6b9f3cf2",
   "metadata": {},
   "outputs": [
    {
     "data": {
      "application/vnd.jupyter.widget-view+json": {
       "model_id": "8425541266af4f61aae2d2e0d02718e3",
       "version_major": 2,
       "version_minor": 0
      },
      "text/plain": [
       "Tab(children=(Output(layout=Layout(max_height='600px', max_width='940px', overflow='scroll')), Output(layout=L…"
      ]
     },
     "metadata": {},
     "output_type": "display_data"
    }
   ],
   "source": [
    "%%oc bolt\n",
    "\n",
    "MATCH (p)-[pof:PARTOF]->(c) RETURN p,pof,c LIMIT 25;"
   ]
  },
  {
   "cell_type": "markdown",
   "id": "6f7c9909",
   "metadata": {},
   "source": [
    "## Create Ratings"
   ]
  },
  {
   "cell_type": "markdown",
   "id": "aa86bc16",
   "metadata": {},
   "source": [
    "![Create Ratings](https://ik.imagekit.io/ggp/33d26c02-b28c-4d82-9be4-ffb024550153_1NcVSJLAC)"
   ]
  },
  {
   "cell_type": "code",
   "execution_count": 6,
   "id": "203599f8",
   "metadata": {},
   "outputs": [
    {
     "data": {
      "application/vnd.jupyter.widget-view+json": {
       "model_id": "3135b21209c645c2b264d21d988e1f3e",
       "version_major": 2,
       "version_minor": 0
      },
      "text/plain": [
       "Tab(children=(Output(layout=Layout(max_height='600px', max_width='940px', overflow='scroll')), Output(layout=L…"
      ]
     },
     "metadata": {},
     "output_type": "display_data"
    }
   ],
   "source": [
    "%%oc bolt\n",
    "\n",
    "MATCH (c:Customer)-[:PURCHASED]->(o:Order)-[:PRODUCT]->(p:Product)\n",
    "WITH c, count(p) as total\n",
    "MATCH (c)-[:PURCHASED]->(o:Order)-[:PRODUCT]->(p:Product)\n",
    "WITH c, total,p, count(o)*1.0 as orders\n",
    "MERGE (c)-[rated:RATED]->(p)\n",
    "ON CREATE SET rated.rating = orders/total\n",
    "ON MATCH SET rated.rating = orders/total\n",
    "WITH c.companyName as company, p.productName as product, orders, total, rated.rating as rating\n",
    "ORDER BY rating DESC\n",
    "RETURN company, product, orders, total, rating LIMIT 10"
   ]
  },
  {
   "cell_type": "code",
   "execution_count": 7,
   "id": "abbf14eb",
   "metadata": {},
   "outputs": [
    {
     "data": {
      "application/vnd.jupyter.widget-view+json": {
       "model_id": "89237a8dec104e488ff359bf24e2a0d2",
       "version_major": 2,
       "version_minor": 0
      },
      "text/plain": [
       "Tab(children=(Output(layout=Layout(max_height='600px', max_width='940px', overflow='scroll')), Output(layout=L…"
      ]
     },
     "metadata": {},
     "output_type": "display_data"
    }
   ],
   "source": [
    "%%oc bolt \n",
    "\n",
    "MATCH (me:Customer)-[r:RATED]->(p:Product)\n",
    "WHERE me.customerID=\"48\"\n",
    "RETURN p.productName, r.rating limit 10"
   ]
  },
  {
   "cell_type": "code",
   "execution_count": null,
   "id": "7011f04d",
   "metadata": {},
   "outputs": [],
   "source": []
  }
 ],
 "metadata": {
  "kernelspec": {
   "display_name": "Python 3",
   "language": "python",
   "name": "python3"
  },
  "language_info": {
   "codemirror_mode": {
    "name": "ipython",
    "version": 3
   },
   "file_extension": ".py",
   "mimetype": "text/x-python",
   "name": "python",
   "nbconvert_exporter": "python",
   "pygments_lexer": "ipython3",
   "version": "3.9.6"
  }
 },
 "nbformat": 4,
 "nbformat_minor": 5
}
