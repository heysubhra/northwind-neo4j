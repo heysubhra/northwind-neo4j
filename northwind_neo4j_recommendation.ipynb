{
 "cells": [
  {
   "cell_type": "code",
   "execution_count": 28,
   "id": "b50195c8",
   "metadata": {},
   "outputs": [],
   "source": [
    "! pip install ipython-cypher neo4j py2neo yfiles_jupyter_graphs graphdatascience pandas --quiet"
   ]
  },
  {
   "cell_type": "code",
   "execution_count": 7,
   "id": "5ba04e0a",
   "metadata": {},
   "outputs": [
    {
     "name": "stdout",
     "output_type": "stream",
     "text": [
      "The dotenv extension is already loaded. To reload it, use:\n",
      "  %reload_ext dotenv\n"
     ]
    }
   ],
   "source": [
    "import os\n",
    "%load_ext dotenv\n",
    "%dotenv\n",
    "\n",
    "DATASET_PATH=os.getenv(\"DATASET_PATH\")\n",
    "JSON_DATASET_PATH=os.getenv(\"JSON_DATASET_PATH\")\n",
    "POSTGRESDB_URL=os.getenv(\"POSTGRESDB_URL\")\n",
    "HASURA_RESTAPI_HOST = os.getenv(\"HASURA_RESTAPI_HOST\")\n",
    "NEO4J_HOST=os.getenv(\"NEO4J_HOST\")\n",
    "NEO4J_USER=os.getenv(\"NEO4J_USER\")\n",
    "NEO4J_PASSWORD=os.getenv(\"NEO4J_PASSWORD\")"
   ]
  },
  {
   "cell_type": "code",
   "execution_count": 8,
   "id": "f2f417e2",
   "metadata": {},
   "outputs": [
    {
     "name": "stderr",
     "output_type": "stream",
     "text": [
      "<ipython-input-8-32dba96e4a69>:6: ExperimentalWarning: The configuration may change in the future.\n",
      "  driver.verify_connectivity()\n"
     ]
    }
   ],
   "source": [
    "from neo4j import GraphDatabase\n",
    "\n",
    "uri = \"bolt://{host}:7687\".format(host=NEO4J_HOST)\n",
    "\n",
    "with GraphDatabase.driver(uri, auth=(NEO4J_USER, NEO4J_PASSWORD)) as driver: \n",
    "    driver.verify_connectivity() \n",
    "    session = driver.session(database='')\n"
   ]
  },
  {
   "cell_type": "code",
   "execution_count": 9,
   "id": "918f0b63",
   "metadata": {},
   "outputs": [],
   "source": [
    "def cypher_run(cypher):\n",
    "    result = session.run(cypher)\n",
    "    return result.to_df()\n",
    "\n",
    "def cypher_run_g(cypher):\n",
    "    result = session.run(cypher)\n",
    "    return result.graph()"
   ]
  },
  {
   "cell_type": "markdown",
   "id": "0ab6a854",
   "metadata": {},
   "source": [
    "## Find Popular Products"
   ]
  },
  {
   "cell_type": "code",
   "execution_count": 10,
   "id": "0d75e7d7",
   "metadata": {},
   "outputs": [
    {
     "data": {
      "application/vnd.jupyter.widget-view+json": {
       "model_id": "733e46b827144f138a83587f5637039d",
       "version_major": 2,
       "version_minor": 0
      },
      "text/plain": [
       "GraphWidget(layout=Layout(height='500px', width='100%'))"
      ]
     },
     "metadata": {},
     "output_type": "display_data"
    }
   ],
   "source": [
    "from yfiles_jupyter_graphs import GraphWidget\n",
    "\n",
    "query = \"\"\"\n",
    "MATCH (c:Customer)-[r1:PURCHASED]->(o:Order)-[r2:PRODUCT]->(p:Product)\n",
    "RETURN c,r1,o,r2,p\n",
    "limit 5\n",
    "\"\"\"\n",
    "w = GraphWidget(graph = cypher_run_g(query))\n",
    "w.show()\n",
    "\n",
    "\n"
   ]
  },
  {
   "cell_type": "markdown",
   "id": "67775bdb",
   "metadata": {},
   "source": [
    "## Content Based Recommendations"
   ]
  },
  {
   "cell_type": "code",
   "execution_count": 11,
   "id": "b32177c7",
   "metadata": {
    "scrolled": true
   },
   "outputs": [
    {
     "data": {
      "application/vnd.jupyter.widget-view+json": {
       "model_id": "cb60472d72244570821fbcaa484ab0f0",
       "version_major": 2,
       "version_minor": 0
      },
      "text/plain": [
       "GraphWidget(layout=Layout(height='500px', width='100%'))"
      ]
     },
     "metadata": {},
     "output_type": "display_data"
    }
   ],
   "source": [
    "query = \"\"\"\n",
    "\n",
    "MATCH (c:Customer)-[r1:PURCHASED]->(o:Order)-[r2:PRODUCT]->(p:Product)\n",
    "<-[:PRODUCT]-(o2:Order)-[:PRODUCT]->(p2:Product)-[:PARTOF]->(cat:Category)<-[:PARTOF]-(p)\n",
    "where c.customerID=\"65\" and NOT( (c)-[:PURCHASED]->(:Order)-[:PRODUCT]->(p2) )\n",
    "return c , p , p2 ,r1,r2,cat\n",
    "limit 25\n",
    "\"\"\"\n",
    "w = GraphWidget(graph = cypher_run_g(query))\n",
    "w.show()"
   ]
  },
  {
   "cell_type": "markdown",
   "id": "2f7d97f0",
   "metadata": {},
   "source": [
    "# Using Graph Data Science"
   ]
  },
  {
   "cell_type": "code",
   "execution_count": 12,
   "id": "6438a1f0",
   "metadata": {},
   "outputs": [
    {
     "name": "stderr",
     "output_type": "stream",
     "text": [
      "<ipython-input-9-e79678bb85b2>:3: ExperimentalWarning: pandas support is experimental and might be changed or removed in future versions\n",
      "  return result.to_df()\n"
     ]
    },
    {
     "data": {
      "text/html": [
       "<div>\n",
       "<style scoped>\n",
       "    .dataframe tbody tr th:only-of-type {\n",
       "        vertical-align: middle;\n",
       "    }\n",
       "\n",
       "    .dataframe tbody tr th {\n",
       "        vertical-align: top;\n",
       "    }\n",
       "\n",
       "    .dataframe thead th {\n",
       "        text-align: right;\n",
       "    }\n",
       "</style>\n",
       "<table border=\"1\" class=\"dataframe\">\n",
       "  <thead>\n",
       "    <tr style=\"text-align: right;\">\n",
       "      <th></th>\n",
       "      <th>n.customerID</th>\n",
       "      <th>r.rating</th>\n",
       "      <th>n2.productID</th>\n",
       "    </tr>\n",
       "  </thead>\n",
       "  <tbody>\n",
       "    <tr>\n",
       "      <th>0</th>\n",
       "      <td>27</td>\n",
       "      <td>1.0</td>\n",
       "      <td>26</td>\n",
       "    </tr>\n",
       "    <tr>\n",
       "      <th>1</th>\n",
       "      <td>3</td>\n",
       "      <td>1.0</td>\n",
       "      <td>11</td>\n",
       "    </tr>\n",
       "    <tr>\n",
       "      <th>2</th>\n",
       "      <td>47</td>\n",
       "      <td>1.0</td>\n",
       "      <td>3</td>\n",
       "    </tr>\n",
       "    <tr>\n",
       "      <th>3</th>\n",
       "      <td>54</td>\n",
       "      <td>0.5</td>\n",
       "      <td>14</td>\n",
       "    </tr>\n",
       "    <tr>\n",
       "      <th>4</th>\n",
       "      <td>11</td>\n",
       "      <td>0.5</td>\n",
       "      <td>3</td>\n",
       "    </tr>\n",
       "  </tbody>\n",
       "</table>\n",
       "</div>"
      ],
      "text/plain": [
       "  n.customerID  r.rating n2.productID\n",
       "0           27       1.0           26\n",
       "1            3       1.0           11\n",
       "2           47       1.0            3\n",
       "3           54       0.5           14\n",
       "4           11       0.5            3"
      ]
     },
     "execution_count": 12,
     "metadata": {},
     "output_type": "execute_result"
    }
   ],
   "source": [
    "query = \"\"\"\n",
    "MATCH (n:Customer)-[r:RATED]->(n2:Product) \n",
    "RETURN n.customerID, r.rating, n2.productID\n",
    "ORDER BY r.rating DESC\n",
    "LIMIT 5\n",
    "\"\"\"\n",
    "\n",
    "cypher_run(query)\n"
   ]
  },
  {
   "cell_type": "code",
   "execution_count": 16,
   "id": "3b0c25e0",
   "metadata": {},
   "outputs": [
    {
     "name": "stderr",
     "output_type": "stream",
     "text": [
      "<ipython-input-9-e79678bb85b2>:3: ExperimentalWarning: pandas support is experimental and might be changed or removed in future versions\n",
      "  return result.to_df()\n"
     ]
    },
    {
     "data": {
      "text/html": [
       "<div>\n",
       "<style scoped>\n",
       "    .dataframe tbody tr th:only-of-type {\n",
       "        vertical-align: middle;\n",
       "    }\n",
       "\n",
       "    .dataframe tbody tr th {\n",
       "        vertical-align: top;\n",
       "    }\n",
       "\n",
       "    .dataframe thead th {\n",
       "        text-align: right;\n",
       "    }\n",
       "</style>\n",
       "<table border=\"1\" class=\"dataframe\">\n",
       "  <thead>\n",
       "    <tr style=\"text-align: right;\">\n",
       "      <th></th>\n",
       "      <th>nodeProjection</th>\n",
       "      <th>relationshipProjection</th>\n",
       "      <th>graphName</th>\n",
       "      <th>nodeCount</th>\n",
       "      <th>relationshipCount</th>\n",
       "      <th>projectMillis</th>\n",
       "    </tr>\n",
       "  </thead>\n",
       "  <tbody>\n",
       "    <tr>\n",
       "      <th>0</th>\n",
       "      <td>{'Customer': {'label': 'Customer', 'properties...</td>\n",
       "      <td>{'RATED': {'orientation': 'NATURAL', 'indexInv...</td>\n",
       "      <td>northwindGraph1</td>\n",
       "      <td>168</td>\n",
       "      <td>484</td>\n",
       "      <td>1386</td>\n",
       "    </tr>\n",
       "  </tbody>\n",
       "</table>\n",
       "</div>"
      ],
      "text/plain": [
       "                                      nodeProjection  \\\n",
       "0  {'Customer': {'label': 'Customer', 'properties...   \n",
       "\n",
       "                              relationshipProjection        graphName  \\\n",
       "0  {'RATED': {'orientation': 'NATURAL', 'indexInv...  northwindGraph1   \n",
       "\n",
       "   nodeCount  relationshipCount  projectMillis  \n",
       "0        168                484           1386  "
      ]
     },
     "execution_count": 16,
     "metadata": {},
     "output_type": "execute_result"
    }
   ],
   "source": [
    "query = \"\"\"\n",
    "\n",
    "CALL gds.graph.project(\n",
    "    'northwindGraph1',\n",
    "    ['Customer', 'Product'],\n",
    "    {\n",
    "        RATED: {\n",
    "            properties: {\n",
    "                rating: {\n",
    "                    property: 'rating',\n",
    "                    defaultValue: 1.0\n",
    "                }\n",
    "            }\n",
    "        }\n",
    "    }\n",
    ");\n",
    "\n",
    "\"\"\"\n",
    "\n",
    "cypher_run(query)"
   ]
  },
  {
   "cell_type": "code",
   "execution_count": 17,
   "id": "ebb1bf40",
   "metadata": {},
   "outputs": [
    {
     "name": "stderr",
     "output_type": "stream",
     "text": [
      "<ipython-input-9-e79678bb85b2>:3: ExperimentalWarning: pandas support is experimental and might be changed or removed in future versions\n",
      "  return result.to_df()\n"
     ]
    },
    {
     "data": {
      "text/html": [
       "<div>\n",
       "<style scoped>\n",
       "    .dataframe tbody tr th:only-of-type {\n",
       "        vertical-align: middle;\n",
       "    }\n",
       "\n",
       "    .dataframe tbody tr th {\n",
       "        vertical-align: top;\n",
       "    }\n",
       "\n",
       "    .dataframe thead th {\n",
       "        text-align: right;\n",
       "    }\n",
       "</style>\n",
       "<table border=\"1\" class=\"dataframe\">\n",
       "  <thead>\n",
       "    <tr style=\"text-align: right;\">\n",
       "      <th></th>\n",
       "      <th>nodeCount</th>\n",
       "      <th>relationshipCount</th>\n",
       "      <th>bytesMin</th>\n",
       "      <th>bytesMax</th>\n",
       "      <th>requiredMemory</th>\n",
       "    </tr>\n",
       "  </thead>\n",
       "  <tbody>\n",
       "    <tr>\n",
       "      <th>0</th>\n",
       "      <td>168</td>\n",
       "      <td>484</td>\n",
       "      <td>53872</td>\n",
       "      <td>60592</td>\n",
       "      <td>[52 KiB ... 59 KiB]</td>\n",
       "    </tr>\n",
       "  </tbody>\n",
       "</table>\n",
       "</div>"
      ],
      "text/plain": [
       "   nodeCount  relationshipCount  bytesMin  bytesMax       requiredMemory\n",
       "0        168                484     53872     60592  [52 KiB ... 59 KiB]"
      ]
     },
     "execution_count": 17,
     "metadata": {},
     "output_type": "execute_result"
    }
   ],
   "source": [
    "query = \"\"\"\n",
    "\n",
    "CALL gds.nodeSimilarity.write.estimate('northwindGraph1', {\n",
    "  writeRelationshipType: 'SIMILAR',\n",
    "  writeProperty: 'score'\n",
    "})\n",
    "YIELD nodeCount, relationshipCount, bytesMin, bytesMax, requiredMemory\n",
    "\n",
    "\"\"\"\n",
    "\n",
    "cypher_run(query)"
   ]
  },
  {
   "cell_type": "code",
   "execution_count": 18,
   "id": "67c865d9",
   "metadata": {},
   "outputs": [
    {
     "name": "stderr",
     "output_type": "stream",
     "text": [
      "<ipython-input-9-e79678bb85b2>:3: ExperimentalWarning: pandas support is experimental and might be changed or removed in future versions\n",
      "  return result.to_df()\n"
     ]
    },
    {
     "data": {
      "text/html": [
       "<div>\n",
       "<style scoped>\n",
       "    .dataframe tbody tr th:only-of-type {\n",
       "        vertical-align: middle;\n",
       "    }\n",
       "\n",
       "    .dataframe tbody tr th {\n",
       "        vertical-align: top;\n",
       "    }\n",
       "\n",
       "    .dataframe thead th {\n",
       "        text-align: right;\n",
       "    }\n",
       "</style>\n",
       "<table border=\"1\" class=\"dataframe\">\n",
       "  <thead>\n",
       "    <tr style=\"text-align: right;\">\n",
       "      <th></th>\n",
       "      <th>customer1</th>\n",
       "      <th>customer2</th>\n",
       "      <th>similarity</th>\n",
       "    </tr>\n",
       "  </thead>\n",
       "  <tbody>\n",
       "    <tr>\n",
       "      <th>0</th>\n",
       "      <td>11</td>\n",
       "      <td>47</td>\n",
       "      <td>0.500000</td>\n",
       "    </tr>\n",
       "    <tr>\n",
       "      <th>1</th>\n",
       "      <td>47</td>\n",
       "      <td>11</td>\n",
       "      <td>0.500000</td>\n",
       "    </tr>\n",
       "    <tr>\n",
       "      <th>2</th>\n",
       "      <td>56</td>\n",
       "      <td>59</td>\n",
       "      <td>0.400000</td>\n",
       "    </tr>\n",
       "    <tr>\n",
       "      <th>3</th>\n",
       "      <td>59</td>\n",
       "      <td>56</td>\n",
       "      <td>0.400000</td>\n",
       "    </tr>\n",
       "    <tr>\n",
       "      <th>4</th>\n",
       "      <td>13</td>\n",
       "      <td>54</td>\n",
       "      <td>0.333333</td>\n",
       "    </tr>\n",
       "    <tr>\n",
       "      <th>...</th>\n",
       "      <td>...</td>\n",
       "      <td>...</td>\n",
       "      <td>...</td>\n",
       "    </tr>\n",
       "    <tr>\n",
       "      <th>714</th>\n",
       "      <td>54</td>\n",
       "      <td>71</td>\n",
       "      <td>0.071429</td>\n",
       "    </tr>\n",
       "    <tr>\n",
       "      <th>715</th>\n",
       "      <td>11</td>\n",
       "      <td>51</td>\n",
       "      <td>0.066667</td>\n",
       "    </tr>\n",
       "    <tr>\n",
       "      <th>716</th>\n",
       "      <td>3</td>\n",
       "      <td>20</td>\n",
       "      <td>0.032258</td>\n",
       "    </tr>\n",
       "    <tr>\n",
       "      <th>717</th>\n",
       "      <td>11</td>\n",
       "      <td>20</td>\n",
       "      <td>0.031250</td>\n",
       "    </tr>\n",
       "    <tr>\n",
       "      <th>718</th>\n",
       "      <td>13</td>\n",
       "      <td>20</td>\n",
       "      <td>0.031250</td>\n",
       "    </tr>\n",
       "  </tbody>\n",
       "</table>\n",
       "<p>719 rows × 3 columns</p>\n",
       "</div>"
      ],
      "text/plain": [
       "    customer1 customer2  similarity\n",
       "0          11        47    0.500000\n",
       "1          47        11    0.500000\n",
       "2          56        59    0.400000\n",
       "3          59        56    0.400000\n",
       "4          13        54    0.333333\n",
       "..        ...       ...         ...\n",
       "714        54        71    0.071429\n",
       "715        11        51    0.066667\n",
       "716         3        20    0.032258\n",
       "717        11        20    0.031250\n",
       "718        13        20    0.031250\n",
       "\n",
       "[719 rows x 3 columns]"
      ]
     },
     "execution_count": 18,
     "metadata": {},
     "output_type": "execute_result"
    }
   ],
   "source": [
    "query = \"\"\"\n",
    "CALL gds.nodeSimilarity.stream('northwindGraph1')\n",
    "YIELD node1, node2, similarity\n",
    "RETURN gds.util.asNode(node1).customerID AS customer1, gds.util.asNode(node2).customerID AS customer2, similarity\n",
    "ORDER BY similarity DESCENDING, customer1, customer2\n",
    "\"\"\"\n",
    "\n",
    "cypher_run(query)"
   ]
  },
  {
   "cell_type": "code",
   "execution_count": 19,
   "id": "83a2cdc0",
   "metadata": {},
   "outputs": [
    {
     "name": "stderr",
     "output_type": "stream",
     "text": [
      "<ipython-input-9-e79678bb85b2>:3: ExperimentalWarning: pandas support is experimental and might be changed or removed in future versions\n",
      "  return result.to_df()\n"
     ]
    },
    {
     "data": {
      "text/html": [
       "<div>\n",
       "<style scoped>\n",
       "    .dataframe tbody tr th:only-of-type {\n",
       "        vertical-align: middle;\n",
       "    }\n",
       "\n",
       "    .dataframe tbody tr th {\n",
       "        vertical-align: top;\n",
       "    }\n",
       "\n",
       "    .dataframe thead th {\n",
       "        text-align: right;\n",
       "    }\n",
       "</style>\n",
       "<table border=\"1\" class=\"dataframe\">\n",
       "  <thead>\n",
       "    <tr style=\"text-align: right;\">\n",
       "      <th></th>\n",
       "      <th>nodesCompared</th>\n",
       "      <th>relationshipsWritten</th>\n",
       "    </tr>\n",
       "  </thead>\n",
       "  <tbody>\n",
       "    <tr>\n",
       "      <th>0</th>\n",
       "      <td>74</td>\n",
       "      <td>719</td>\n",
       "    </tr>\n",
       "  </tbody>\n",
       "</table>\n",
       "</div>"
      ],
      "text/plain": [
       "   nodesCompared  relationshipsWritten\n",
       "0             74                   719"
      ]
     },
     "execution_count": 19,
     "metadata": {},
     "output_type": "execute_result"
    }
   ],
   "source": [
    "query = \"\"\"\n",
    "CALL gds.nodeSimilarity.write('northwindGraph1', {\n",
    "    writeRelationshipType: 'SIMILAR',\n",
    "    writeProperty: 'score'\n",
    "})\n",
    "YIELD nodesCompared, relationshipsWritten\n",
    "\"\"\"\n",
    "\n",
    "cypher_run(query)"
   ]
  },
  {
   "cell_type": "code",
   "execution_count": 22,
   "id": "9b06c236",
   "metadata": {},
   "outputs": [
    {
     "data": {
      "application/vnd.jupyter.widget-view+json": {
       "model_id": "80b01bc5e8cf419d852c71b6e552c569",
       "version_major": 2,
       "version_minor": 0
      },
      "text/plain": [
       "GraphWidget(layout=Layout(height='500px', width='100%'))"
      ]
     },
     "metadata": {},
     "output_type": "display_data"
    }
   ],
   "source": [
    "query = \"\"\"MATCH p=()-[r:SIMILAR]->() RETURN p LIMIT 25\"\"\"\n",
    "\n",
    "w = GraphWidget(graph = cypher_run_g(query))\n",
    "w.show()"
   ]
  },
  {
   "cell_type": "code",
   "execution_count": 23,
   "id": "a3360323",
   "metadata": {},
   "outputs": [
    {
     "name": "stderr",
     "output_type": "stream",
     "text": [
      "<ipython-input-9-e79678bb85b2>:3: ExperimentalWarning: pandas support is experimental and might be changed or removed in future versions\n",
      "  return result.to_df()\n"
     ]
    },
    {
     "data": {
      "text/html": [
       "<div>\n",
       "<style scoped>\n",
       "    .dataframe tbody tr th:only-of-type {\n",
       "        vertical-align: middle;\n",
       "    }\n",
       "\n",
       "    .dataframe tbody tr th {\n",
       "        vertical-align: top;\n",
       "    }\n",
       "\n",
       "    .dataframe thead th {\n",
       "        text-align: right;\n",
       "    }\n",
       "</style>\n",
       "<table border=\"1\" class=\"dataframe\">\n",
       "  <thead>\n",
       "    <tr style=\"text-align: right;\">\n",
       "      <th></th>\n",
       "      <th>c1.customerID</th>\n",
       "      <th>r.score</th>\n",
       "      <th>c2.customerID</th>\n",
       "    </tr>\n",
       "  </thead>\n",
       "  <tbody>\n",
       "    <tr>\n",
       "      <th>0</th>\n",
       "      <td>47</td>\n",
       "      <td>0.500000</td>\n",
       "      <td>11</td>\n",
       "    </tr>\n",
       "    <tr>\n",
       "      <th>1</th>\n",
       "      <td>11</td>\n",
       "      <td>0.500000</td>\n",
       "      <td>47</td>\n",
       "    </tr>\n",
       "    <tr>\n",
       "      <th>2</th>\n",
       "      <td>56</td>\n",
       "      <td>0.400000</td>\n",
       "      <td>59</td>\n",
       "    </tr>\n",
       "    <tr>\n",
       "      <th>3</th>\n",
       "      <td>59</td>\n",
       "      <td>0.400000</td>\n",
       "      <td>56</td>\n",
       "    </tr>\n",
       "    <tr>\n",
       "      <th>4</th>\n",
       "      <td>54</td>\n",
       "      <td>0.333333</td>\n",
       "      <td>13</td>\n",
       "    </tr>\n",
       "    <tr>\n",
       "      <th>5</th>\n",
       "      <td>2</td>\n",
       "      <td>0.333333</td>\n",
       "      <td>18</td>\n",
       "    </tr>\n",
       "    <tr>\n",
       "      <th>6</th>\n",
       "      <td>83</td>\n",
       "      <td>0.333333</td>\n",
       "      <td>28</td>\n",
       "    </tr>\n",
       "    <tr>\n",
       "      <th>7</th>\n",
       "      <td>56</td>\n",
       "      <td>0.333333</td>\n",
       "      <td>19</td>\n",
       "    </tr>\n",
       "    <tr>\n",
       "      <th>8</th>\n",
       "      <td>56</td>\n",
       "      <td>0.333333</td>\n",
       "      <td>3</td>\n",
       "    </tr>\n",
       "    <tr>\n",
       "      <th>9</th>\n",
       "      <td>18</td>\n",
       "      <td>0.333333</td>\n",
       "      <td>2</td>\n",
       "    </tr>\n",
       "  </tbody>\n",
       "</table>\n",
       "</div>"
      ],
      "text/plain": [
       "  c1.customerID   r.score c2.customerID\n",
       "0            47  0.500000            11\n",
       "1            11  0.500000            47\n",
       "2            56  0.400000            59\n",
       "3            59  0.400000            56\n",
       "4            54  0.333333            13\n",
       "5             2  0.333333            18\n",
       "6            83  0.333333            28\n",
       "7            56  0.333333            19\n",
       "8            56  0.333333             3\n",
       "9            18  0.333333             2"
      ]
     },
     "execution_count": 23,
     "metadata": {},
     "output_type": "execute_result"
    }
   ],
   "source": [
    "query = \"\"\"\n",
    "MATCH (c1:Customer)-[r:SIMILAR]->(c2:Customer) \n",
    "RETURN c1.customerID,r.score,c2.customerID \n",
    "ORDER BY r.score DESCENDING \n",
    "LIMIT 10\n",
    "\"\"\"\n",
    "cypher_run(query)"
   ]
  },
  {
   "cell_type": "code",
   "execution_count": 24,
   "id": "14aa48f2",
   "metadata": {
    "scrolled": true
   },
   "outputs": [
    {
     "name": "stderr",
     "output_type": "stream",
     "text": [
      "<ipython-input-9-e79678bb85b2>:3: ExperimentalWarning: pandas support is experimental and might be changed or removed in future versions\n",
      "  return result.to_df()\n"
     ]
    },
    {
     "data": {
      "text/html": [
       "<div>\n",
       "<style scoped>\n",
       "    .dataframe tbody tr th:only-of-type {\n",
       "        vertical-align: middle;\n",
       "    }\n",
       "\n",
       "    .dataframe tbody tr th {\n",
       "        vertical-align: top;\n",
       "    }\n",
       "\n",
       "    .dataframe thead th {\n",
       "        text-align: right;\n",
       "    }\n",
       "</style>\n",
       "<table border=\"1\" class=\"dataframe\">\n",
       "  <thead>\n",
       "    <tr style=\"text-align: right;\">\n",
       "      <th></th>\n",
       "      <th>c1.customerID</th>\n",
       "      <th>r.score</th>\n",
       "      <th>c2.customerID</th>\n",
       "    </tr>\n",
       "  </thead>\n",
       "  <tbody>\n",
       "    <tr>\n",
       "      <th>0</th>\n",
       "      <td>47</td>\n",
       "      <td>0.5</td>\n",
       "      <td>11</td>\n",
       "    </tr>\n",
       "  </tbody>\n",
       "</table>\n",
       "</div>"
      ],
      "text/plain": [
       "  c1.customerID  r.score c2.customerID\n",
       "0            47      0.5            11"
      ]
     },
     "execution_count": 24,
     "metadata": {},
     "output_type": "execute_result"
    }
   ],
   "source": [
    "query = \"\"\"\n",
    "MATCH (c1:Customer {customerID:'47'})-[r:SIMILAR]->(c2:Customer) \n",
    "RETURN c1.customerID,r.score,c2.customerID \n",
    "ORDER BY r.score DESCENDING \n",
    "\"\"\"\n",
    "cypher_run(query)\n"
   ]
  },
  {
   "cell_type": "code",
   "execution_count": 25,
   "id": "9d247024",
   "metadata": {},
   "outputs": [
    {
     "name": "stderr",
     "output_type": "stream",
     "text": [
      "<ipython-input-9-e79678bb85b2>:3: ExperimentalWarning: pandas support is experimental and might be changed or removed in future versions\n",
      "  return result.to_df()\n"
     ]
    },
    {
     "data": {
      "text/html": [
       "<div>\n",
       "<style scoped>\n",
       "    .dataframe tbody tr th:only-of-type {\n",
       "        vertical-align: middle;\n",
       "    }\n",
       "\n",
       "    .dataframe tbody tr th {\n",
       "        vertical-align: top;\n",
       "    }\n",
       "\n",
       "    .dataframe thead th {\n",
       "        text-align: right;\n",
       "    }\n",
       "</style>\n",
       "<table border=\"1\" class=\"dataframe\">\n",
       "  <thead>\n",
       "    <tr style=\"text-align: right;\">\n",
       "      <th></th>\n",
       "      <th>recommendation</th>\n",
       "    </tr>\n",
       "  </thead>\n",
       "  <tbody>\n",
       "    <tr>\n",
       "      <th>0</th>\n",
       "      <td>Wimmers gute Semmelknödel</td>\n",
       "    </tr>\n",
       "  </tbody>\n",
       "</table>\n",
       "</div>"
      ],
      "text/plain": [
       "              recommendation\n",
       "0  Wimmers gute Semmelknödel"
      ]
     },
     "execution_count": 25,
     "metadata": {},
     "output_type": "execute_result"
    }
   ],
   "source": [
    "query = \"\"\"\n",
    "MATCH (c1:Customer {customerID:'47'})-->(p1:Product)\n",
    "WITH collect(p1) as products\n",
    "MATCH (c2:Customer {customerID:'11'})-->(p2:Product)\n",
    "WHERE not p2 in products\n",
    "RETURN p2.productName as recommendation\n",
    "\"\"\"\n",
    "cypher_run(query)"
   ]
  },
  {
   "cell_type": "code",
   "execution_count": null,
   "id": "05fed1d5",
   "metadata": {},
   "outputs": [],
   "source": []
  }
 ],
 "metadata": {
  "kernelspec": {
   "display_name": "Python 3",
   "language": "python",
   "name": "python3"
  },
  "language_info": {
   "codemirror_mode": {
    "name": "ipython",
    "version": 3
   },
   "file_extension": ".py",
   "mimetype": "text/x-python",
   "name": "python",
   "nbconvert_exporter": "python",
   "pygments_lexer": "ipython3",
   "version": "3.9.6"
  }
 },
 "nbformat": 4,
 "nbformat_minor": 5
}
